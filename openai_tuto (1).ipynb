{
 "cells": [
  {
   "cell_type": "markdown",
   "id": "4ce32671-fadd-425f-83ed-f5529fe171a0",
   "metadata": {},
   "source": [
    "# **OpenAI API**\n",
    "## Get OpenAI API Key from [here](https://openai.com/)"
   ]
  },
  {
   "cell_type": "code",
   "execution_count": null,
   "id": "ec9f158b-af96-4353-8420-0b5f01fd5d3c",
   "metadata": {},
   "outputs": [],
   "source": [
    "!pip install openai\n",
    "!pip install langchain"
   ]
  },
  {
   "cell_type": "code",
   "execution_count": 2,
   "id": "7b0f1c9d-d0a4-43ae-9848-df69bb26e339",
   "metadata": {},
   "outputs": [],
   "source": [
    "import os\n",
    "from langchain.llms import OpenAI\n",
    "os.environ['OPENAI_API_KEY']=\"your openai_api_key\""
   ]
  },
  {
   "cell_type": "code",
   "execution_count": 3,
   "id": "5fc82d2e-0e9d-4922-a018-b2f613f916d0",
   "metadata": {},
   "outputs": [
    {
     "name": "stdout",
     "output_type": "stream",
     "text": [
      "\n",
      "\n",
      "\"La Tavola Italiana\"\n"
     ]
    }
   ],
   "source": [
    "llm=OpenAI(temperature=0.6)\n",
    "name=llm(\"i want to open a restaurant for Italian food. Suggest a fancy name for this.\")\n",
    "print(name)"
   ]
  },
  {
   "cell_type": "markdown",
   "id": "f4e9f795-4284-42f4-8090-ec438fe60cfd",
   "metadata": {},
   "source": [
    "# Langchain\n",
    "## Creating a template with the help of Langchain"
   ]
  },
  {
   "cell_type": "code",
   "execution_count": 5,
   "id": "7fff8eca-d4aa-4ed8-bfcd-8e50a1f963ec",
   "metadata": {},
   "outputs": [],
   "source": [
    "from langchain.chains import LLMChain\n",
    "from langchain.prompts import PromptTemplate\n",
    "prompt_template_name=PromptTemplate(\n",
    "    input_variables=['cuisine'],\n",
    "    template=\"I want to open a restaurant for {cuisine} food. Suggest me a fancy name for this.\")"
   ]
  },
  {
   "cell_type": "code",
   "execution_count": 6,
   "id": "79619882-b03d-4f70-b872-12f03030b91c",
   "metadata": {},
   "outputs": [
    {
     "data": {
      "text/plain": [
       "'I want to open a restaurant for Italian food. Suggest me a fancy name for this.'"
      ]
     },
     "execution_count": 6,
     "metadata": {},
     "output_type": "execute_result"
    }
   ],
   "source": [
    "prompt_template_name.format(cuisine=\"Italian\")"
   ]
  },
  {
   "cell_type": "markdown",
   "id": "b6814bf7-07e8-4c70-9451-1fa308de209f",
   "metadata": {},
   "source": [
    "## Connect the LLM and the prompt with LLMChain"
   ]
  },
  {
   "cell_type": "code",
   "execution_count": 8,
   "id": "142d1109-88da-4339-bdc5-e4b973de9ed3",
   "metadata": {},
   "outputs": [
    {
     "data": {
      "text/plain": [
       "'\\n\\nLe Bistro Francais'"
      ]
     },
     "execution_count": 8,
     "metadata": {},
     "output_type": "execute_result"
    }
   ],
   "source": [
    "name_chain=LLMChain(llm=llm,prompt=prompt_template_name)\n",
    "name_chain.run(\"French\")"
   ]
  },
  {
   "cell_type": "code",
   "execution_count": 9,
   "id": "f822f731-7784-4a67-bb1f-c3f513cb5edf",
   "metadata": {},
   "outputs": [],
   "source": [
    "prompt_template_items=PromptTemplate(\n",
    "    input_variables=['restaurant_name'],\n",
    "    template=\"Suggest some menu items for {restaurant_name}. return it as a comma separated list\")\n",
    "\n"
   ]
  },
  {
   "cell_type": "code",
   "execution_count": 10,
   "id": "4f32ced3-7070-4cab-84b9-cfab64a2e5e7",
   "metadata": {},
   "outputs": [],
   "source": [
    "food_items_chain=LLMChain(llm=llm,prompt=prompt_template_items)\n"
   ]
  },
  {
   "cell_type": "code",
   "execution_count": 11,
   "id": "09fa3d9a-695c-4913-a949-8a890e97f9c8",
   "metadata": {},
   "outputs": [
    {
     "name": "stdout",
     "output_type": "stream",
     "text": [
      "\n",
      "\n",
      "Chile con Queso, Chicken Fajitas, Beef Tacos, Shrimp Quesadillas, Nachos Supreme, Bean Burritos, Veggie Enchiladas, Guacamole, Fried Plantains, Carne Asada Burrito.\n"
     ]
    }
   ],
   "source": [
    "from langchain.chains import SimpleSequentialChain\n",
    "chain=SimpleSequentialChain(chains=[name_chain,food_items_chain])\n",
    "response=chain.run(\"Mexican\")\n",
    "print(response)"
   ]
  },
  {
   "cell_type": "code",
   "execution_count": null,
   "id": "79ce9f66-733b-4a7b-8749-11fb6a49c1ba",
   "metadata": {},
   "outputs": [],
   "source": []
  }
 ],
 "metadata": {
  "kernelspec": {
   "display_name": "Python 3 (ipykernel)",
   "language": "python",
   "name": "python3"
  },
  "language_info": {
   "codemirror_mode": {
    "name": "ipython",
    "version": 3
   },
   "file_extension": ".py",
   "mimetype": "text/x-python",
   "name": "python",
   "nbconvert_exporter": "python",
   "pygments_lexer": "ipython3",
   "version": "3.10.12"
  }
 },
 "nbformat": 4,
 "nbformat_minor": 5
}
